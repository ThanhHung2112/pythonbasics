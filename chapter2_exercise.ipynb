{
  "nbformat": 4,
  "nbformat_minor": 0,
  "metadata": {
    "colab": {
      "name": "chapter2-exercise.ipynb",
      "provenance": [],
      "authorship_tag": "ABX9TyPmPxAxU6UiZ6NPBIYnbvAY",
      "include_colab_link": true
    },
    "kernelspec": {
      "name": "python3",
      "display_name": "Python 3"
    }
  },
  "cells": [
    {
      "cell_type": "markdown",
      "metadata": {
        "id": "view-in-github",
        "colab_type": "text"
      },
      "source": [
        "<a href=\"https://colab.research.google.com/github/ndhcuong/pythonbasics/blob/master/chapter2_exercise.ipynb\" target=\"_parent\"><img src=\"https://colab.research.google.com/assets/colab-badge.svg\" alt=\"Open In Colab\"/></a>"
      ]
    },
    {
      "cell_type": "markdown",
      "metadata": {
        "id": "sMJ5KoiBMARd",
        "colab_type": "text"
      },
      "source": [
        "**BÀI TẬP LẬP TRÌNH CHƯƠNG 2**\n",
        "\n",
        "Bài 1: Lập trình nhập vào từ bàn phím 2 số nguyên và tính:\n",
        "\n",
        "\n",
        "1.   Tổng của 2 số\n",
        "2.   Tích của 2 số\n",
        "3.   Hiệu của 2 số\n",
        "4.   Phép chia lấy phần dư của 2 số\n",
        "5.   Phép chia lấy phần nguyên của 2 số\n",
        "\n",
        "Kết quả xuất ra màn hình\n",
        "\n"
      ]
    },
    {
      "cell_type": "code",
      "metadata": {
        "id": "Os5z0wPpL1Nk",
        "colab_type": "code",
        "colab": {}
      },
      "source": [
        "#Your code here\n",
        "\n",
        "\n"
      ],
      "execution_count": 0,
      "outputs": []
    },
    {
      "cell_type": "markdown",
      "metadata": {
        "id": "j2suJwVPM5Zk",
        "colab_type": "text"
      },
      "source": [
        "Bài 2: Lập trình nhập vào từ bàn phím 2 số thực và tính:\n",
        "\n",
        "1.   Tổng của 2 số\n",
        "2.   Tích của 2 số\n",
        "3.   Hiệu của 2 số\n",
        "4.   Thương của 2 số\n",
        "\n",
        "Kết quả xuất ra màn hình"
      ]
    },
    {
      "cell_type": "code",
      "metadata": {
        "id": "fmlD-ggRMh9q",
        "colab_type": "code",
        "colab": {}
      },
      "source": [
        "#Your code here\n",
        "\n",
        "\n"
      ],
      "execution_count": 0,
      "outputs": []
    },
    {
      "cell_type": "markdown",
      "metadata": {
        "id": "sOCly6AvNUAN",
        "colab_type": "text"
      },
      "source": [
        "Bài 3: (Sử dụng các hàm toán học) Nhập một số từ bàn phím và tính:\n",
        "\n",
        "\n",
        "\n",
        "1.   Trị tuyệt đối\n",
        "2.   Lấy phần nguyên của số\n",
        "3.   Chuyển đổi thành số thực\n",
        "4.   (nhập thêm 1 số từ bàn phím) và tính lũy thừa $ x^y $\n",
        "5.   Tính căn bậc hai\n",
        "\n",
        "Kết quả xuất ra màn hình\n",
        "\n"
      ]
    },
    {
      "cell_type": "code",
      "metadata": {
        "id": "XNKN4yAoOUAa",
        "colab_type": "code",
        "colab": {}
      },
      "source": [
        "#Your code here\n",
        "\n",
        "\n"
      ],
      "execution_count": 0,
      "outputs": []
    },
    {
      "cell_type": "markdown",
      "metadata": {
        "id": "79zQGrU5Od-d",
        "colab_type": "text"
      },
      "source": [
        "Bài 4: Nhập 2 số từ bàn phím và thực hiện các phép so sánh sau giữa 2 số:\n",
        "\n",
        "\n",
        "\n",
        "1.   $ \\geq $\n",
        "2.   $ \\leq $\n",
        "3.   $ > $\n",
        "4.   $ < $\n",
        "5.   $ \\neq $\n",
        "\n",
        "Kết quả xuất ra màn hình\n"
      ]
    },
    {
      "cell_type": "code",
      "metadata": {
        "id": "qePknJEaP1tL",
        "colab_type": "code",
        "colab": {}
      },
      "source": [
        "#Your code here\n",
        "\n",
        "\n",
        "\n"
      ],
      "execution_count": 0,
      "outputs": []
    },
    {
      "cell_type": "markdown",
      "metadata": {
        "id": "90lU8sTXP4hu",
        "colab_type": "text"
      },
      "source": [
        "Bài 5: Nhập 1 chuỗi ký tự từ bàn phím:\n",
        "\n",
        "\n",
        "\n",
        "1.   Chuyển thành chuỗi in hoa\n",
        "2.   Chuyển thành chuỗi in thường\n",
        "\n",
        "Kết quả xuất ra màn hình\n",
        "\n",
        "\n",
        "\n"
      ]
    },
    {
      "cell_type": "code",
      "metadata": {
        "id": "PWIIssukQXja",
        "colab_type": "code",
        "colab": {}
      },
      "source": [
        "#Your code here\n",
        "\n",
        "\n"
      ],
      "execution_count": 0,
      "outputs": []
    },
    {
      "cell_type": "markdown",
      "metadata": {
        "id": "gv9n9-gMQZ7O",
        "colab_type": "text"
      },
      "source": [
        "Bài 6: Xuất ra màn hình 1 chuỗi ký từ nằm trên nhiều hàng (có thể là 1 bài thơ tùy ý bạn lựa chọn)"
      ]
    },
    {
      "cell_type": "code",
      "metadata": {
        "id": "ZcjBCkQOQoS0",
        "colab_type": "code",
        "colab": {}
      },
      "source": [
        "#Your code here\n",
        "\n",
        "\n",
        "\n"
      ],
      "execution_count": 0,
      "outputs": []
    }
  ]
}